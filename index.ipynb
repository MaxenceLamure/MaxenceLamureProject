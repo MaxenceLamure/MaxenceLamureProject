{
  "cells": [
    {
      "cell_type": "markdown",
      "metadata": {},
      "source": [
        "::: quarto\n",
        "```{table, echo=FALSE}\n",
        "| Header 1 | Header 2 |\n",
        "|----------|----------|\n",
        "| Row 1    | Row 1    |\n",
        "| Row 2    | Row 2    |"
      ],
      "id": "997076ff"
    }
  ],
  "metadata": {
    "kernelspec": {
      "display_name": "Python 3",
      "language": "python",
      "name": "python3"
    }
  },
  "nbformat": 4,
  "nbformat_minor": 5
}